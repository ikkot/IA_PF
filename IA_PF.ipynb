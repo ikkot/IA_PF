{
  "nbformat": 4,
  "nbformat_minor": 0,
  "metadata": {
    "colab": {
      "name": "IA_PF.ipynb",
      "provenance": []
    },
    "kernelspec": {
      "name": "python_defaultSpec_1597347563260",
      "display_name": "Python 3.8.5 64-bit"
    }
  },
  "cells": [
    {
      "cell_type": "markdown",
      "metadata": {
        "id": "x5WhffKZsPtu",
        "colab_type": "text"
      },
      "source": [
        "# Setear proyecto"
      ]
    },
    {
      "cell_type": "code",
      "metadata": {
        "id": "tf77Zqp_AQpn",
        "colab_type": "code",
        "colab": {}
      },
      "source": [
        "from PIL import Image\n",
        "import matplotlib.pyplot as plt\n",
        "import pandas as pd\n",
        "import os\n",
        "import xml.dom.minidom\n",
        "import numpy as np"
      ],
      "execution_count": null,
      "outputs": []
    },
    {
      "cell_type": "code",
      "metadata": {
        "id": "FOhFjOxVbTEe",
        "colab_type": "code",
        "colab": {}
      },
      "source": [
        "from google.colab import files"
      ],
      "execution_count": null,
      "outputs": []
    },
    {
      "cell_type": "code",
      "metadata": {
        "id": "qMWL95KZ3mj6",
        "colab_type": "code",
        "colab": {
          "base_uri": "https://localhost:8080/",
          "height": 204
        },
        "outputId": "d0a959cb-33b6-4923-8feb-1e54ce6ac510",
        "tags": []
      },
      "source": [
        "#Instalar graficos\n",
        "!pip install scikit-plot"
      ],
      "execution_count": null,
      "outputs": []
    },
    {
      "cell_type": "code",
      "metadata": {
        "id": "Ar7Hn7hsSNQP",
        "colab_type": "code",
        "colab": {
          "base_uri": "https://localhost:8080/",
          "height": 34
        },
        "outputId": "b381366a-beea-4249-9320-203d867d7ee4",
        "tags": []
      },
      "source": [
        "cd /content/drive/My\\ Drive/IA_project/test"
      ],
      "execution_count": null,
      "outputs": []
    },
    {
      "cell_type": "code",
      "metadata": {
        "id": "DOm5ivakA91J",
        "colab_type": "code",
        "colab": {}
      },
      "source": [
        "#Inicializar\n",
        "path=\"/content/drive/My Drive/IA_project/labeled/\"\n",
        "size_photo=1000"
      ],
      "execution_count": null,
      "outputs": []
    },
    {
      "cell_type": "markdown",
      "metadata": {
        "id": "gNz-kv9rsi8a",
        "colab_type": "text"
      },
      "source": [
        "\n",
        "\n",
        "---\n",
        "\n"
      ]
    },
    {
      "cell_type": "markdown",
      "metadata": {
        "id": "KMYpESUZGZzT",
        "colab_type": "text"
      },
      "source": [
        "# **Cargar archivos labeling**"
      ]
    },
    {
      "cell_type": "markdown",
      "metadata": {
        "id": "pKUqafP3H_MZ",
        "colab_type": "text"
      },
      "source": [
        "## Imagen Row\n",
        "\n",
        "Recorta la imagen a partir del xml. Estandarisa a resolucion 400x108 y la convierte a monocromatico\n"
      ]
    },
    {
      "cell_type": "code",
      "metadata": {
        "id": "IVuvJQQSN2Go",
        "colab_type": "code",
        "colab": {}
      },
      "source": [
        "def standardize_img(foto):\n",
        "  foto_tem = foto.resize((400,108),Image.ANTIALIAS)\n",
        "  foto_tem= foto_tem.convert('L') #Monochromatic\n",
        "  return foto_tem\n"
      ],
      "execution_count": null,
      "outputs": []
    },
    {
      "cell_type": "code",
      "metadata": {
        "id": "yG6Azv6w1aGE",
        "colab_type": "code",
        "colab": {}
      },
      "source": [
        "def process_img_row(ele_name):\n",
        "    #IMG Row\n",
        "    fotoRaw = Image.open(path+\"img/\"+ele_name+\".jpg\")\n",
        "    xmlRaw = xml.dom.minidom.parse(path+\"label/\"+ele_name+\".xml\");\n",
        "\n",
        "    xmin = int(xmlRaw.getElementsByTagName(\"xmin\")[0].firstChild.data)\n",
        "    ymin = int(xmlRaw.getElementsByTagName(\"ymin\")[0].firstChild.data)\n",
        "    xmax = int(xmlRaw.getElementsByTagName(\"xmax\")[0].firstChild.data)\n",
        "    ymax = int(xmlRaw.getElementsByTagName(\"ymax\")[0].firstChild.data)\n",
        "\n",
        "    \n",
        "    if(False):# Label\n",
        "      width = int(xmlRaw.getElementsByTagName(\"width\")[0].firstChild.data)\n",
        "      height = int(xmlRaw.getElementsByTagName(\"height\")[0].firstChild.data)\n",
        "      xmin = (xmin*size_photo)//width\n",
        "      xmax = (xmax*size_photo)//width\n",
        "      ymin = (ymin*size_photo)//height\n",
        "      ymax = (ymax*size_photo)//height\n",
        "      fotoTest = fotoRaw.resize((size_photo,size_photo),Image.ANTIALIAS)\n",
        "      fotoTest= fotoTest.convert('L')#L  F\n",
        "      #save_file_png(fotoTest,ele_name,\"fotoRaw\")\n",
        "      fotoTest_lis = list(fotoTest.getdata())\n",
        "      mat_foto.append(fotoTest_lis)\n",
        "      mat_res_foto.append((xmin,ymin))\n",
        "      area_row = (xmin, ymin, xmax, ymax)\n",
        "      foto = fotoTest.crop(area_row)\n",
        "      \n",
        "    # Crop \n",
        "    area_row = (xmin, ymin, xmax, ymax)\n",
        "    foto = fotoRaw.crop(area_row)\n",
        "\n",
        "    #Standardize\n",
        "    foto = standardize_img(foto)\n",
        "    \n",
        "    #Close\n",
        "    fotoRaw.close()\n",
        "\n",
        "    return foto"
      ],
      "execution_count": null,
      "outputs": []
    },
    {
      "cell_type": "markdown",
      "metadata": {
        "id": "J_IZSJIaIpIw",
        "colab_type": "text"
      },
      "source": [
        "## Prosesar caracteres\n",
        "\n",
        "Recorta la imagen en tres partes que luego retorna"
      ]
    },
    {
      "cell_type": "code",
      "metadata": {
        "id": "9KgEvz4824EE",
        "colab_type": "code",
        "colab": {}
      },
      "source": [
        "def process_char(foto):\n",
        "    a1 = (0, 0, foto.size[0]//3, foto.size[1])\n",
        "    a2 = (foto.size[0]//3, 0, foto.size[0]-foto.size[0]//3, foto.size[1])\n",
        "    a3 = (foto.size[0]-foto.size[0]//3, 0, foto.size[0], foto.size[1])\n",
        "\n",
        "    c1 = foto.crop(a1)\n",
        "    c2 = foto.crop(a2)\n",
        "    c3 = foto.crop(a3)\n",
        "\n",
        "    return (c1,c2,c3)"
      ],
      "execution_count": null,
      "outputs": []
    },
    {
      "cell_type": "markdown",
      "metadata": {
        "id": "3OrxBp1Or6s0",
        "colab_type": "text"
      },
      "source": [
        "## Save Files\n",
        "\n",
        "Guardar imagenes en directorio ``` test_img/ ```\n",
        "\n"
      ]
    },
    {
      "cell_type": "code",
      "metadata": {
        "id": "S9nmvnnyoVGb",
        "colab_type": "code",
        "colab": {}
      },
      "source": [
        "def save_file_png(img,name,path_tem):\n",
        "  path_img_result = 'test_img/'\n",
        "  path_img_result_end = path_img_result+path_tem\n",
        "\n",
        "  if not os.path.isdir(path_img_result):\n",
        "    print('La carpeta no existe 1.');\n",
        "    os.mkdir(path_img_result)\n",
        "\n",
        "  if not os.path.isdir(path_img_result_end):\n",
        "    print('La carpeta no existe 2.');\n",
        "    os.mkdir(path_img_result_end)\n",
        "\n",
        "  img.save(path_img_result_end+\"/\"+name+'.png')"
      ],
      "execution_count": null,
      "outputs": []
    },
    {
      "cell_type": "markdown",
      "metadata": {
        "id": "fgglqTKTJFD3",
        "colab_type": "text"
      },
      "source": [
        "## Carga de archivos etiquetados\n",
        "\n",
        "Carga todos los archivos en el directorio ``` img/ ``` con sus respectivos ``` .xml ``` \n",
        "\n",
        "Los prosesa hasta tener cuatro listas:\n",
        "\n",
        "*   Lista de pixeles (0,256) de cada numero\n",
        "*   Numeros esperados\n",
        "*   Lista de pixeles (0,256) de cada letra\n",
        "*   Letras esperados\n",
        "\n",
        "\n",
        "\n",
        "\n"
      ]
    },
    {
      "cell_type": "code",
      "metadata": {
        "id": "VLVINRCcGpYp",
        "colab_type": "code",
        "colab": {}
      },
      "source": [
        "def load_labeling(download_state):\n",
        "  contenido = os.listdir(path+\"img\")\n",
        "  print(contenido)\n",
        "  count = 0\n",
        "  mat_leter = []; \n",
        "  mat_res_leter = []\n",
        "  mat_digit = []; \n",
        "  mat_res_digit = []\n",
        "  for ele in contenido:\n",
        "    count=count+1\n",
        "    print(str(count)+\" de \" + str(len(contenido)))\n",
        "    ele_name =ele.split(\".\")[0]\n",
        "\n",
        "    foto = process_img_row(ele_name)\n",
        "\n",
        "    # Crop digit and leter\n",
        "    area_leter = (0, 0, (foto.size[0]//2)-23, foto.size[1])\n",
        "    area_digit = ((foto.size[0]//2)+17, 0, foto.size[0], foto.size[1])\n",
        "    foto_leter = foto.crop(area_leter)\n",
        "    foto_digit = foto.crop(area_digit)\n",
        "\n",
        "    # Leter\n",
        "    (l1,l2,l3)=process_char(foto_leter)\n",
        "\n",
        "    mat_leter.append(list(l1.getdata()))\n",
        "    mat_leter.append(list(l2.getdata()))\n",
        "    mat_leter.append(list(l3.getdata()))\n",
        "\n",
        "    mat_res_leter.append(ord(ele[0]))\n",
        "    mat_res_leter.append(ord(ele[1]))\n",
        "    mat_res_leter.append(ord(ele[2]))\n",
        "\n",
        "    ## Digito\n",
        "    (d1,d2,d3)=process_char(foto_digit)\n",
        "\n",
        "    mat_digit.append(list(d1.getdata()))\n",
        "    mat_digit.append(list(d2.getdata()))\n",
        "    mat_digit.append(list(d3.getdata()))\n",
        "\n",
        "    mat_res_digit.append(int(ele[3]))\n",
        "    mat_res_digit.append(int(ele[4]))\n",
        "    mat_res_digit.append(int(ele[5]))\n",
        "\n",
        "    #Download\n",
        "    if(download_state):\n",
        "      save_file_png(foto,ele_name,\"foto\")\n",
        "\n",
        "      save_file_png(l1,ele[0]+\"_0_\"+ele_name,\"l\")\n",
        "      save_file_png(l2,ele[1]+\"_1_\"+ele_name,\"l\")\n",
        "      save_file_png(l3,ele[2]+\"_2_\"+ele_name,\"l\")\n",
        "\n",
        "      save_file_png(d1,ele[3]+\"_0_\"+ele_name,\"d\")\n",
        "      save_file_png(d2,ele[4]+\"_1_\"+ele_name,\"d\")\n",
        "      save_file_png(d3,ele[5]+\"_2_\"+ele_name,\"d\")\n",
        "\n",
        "  print(\"End\")\n",
        "  return (mat_leter,mat_res_leter,mat_digit,mat_res_digit)"
      ],
      "execution_count": null,
      "outputs": []
    },
    {
      "cell_type": "markdown",
      "metadata": {
        "id": "UihqkL6Ds55D",
        "colab_type": "text"
      },
      "source": [
        "\n",
        "\n",
        "---\n",
        "\n"
      ]
    },
    {
      "cell_type": "markdown",
      "metadata": {
        "id": "bO15SVu9sw_n",
        "colab_type": "text"
      },
      "source": [
        "# **Entrenamiento**"
      ]
    },
    {
      "cell_type": "markdown",
      "metadata": {
        "id": "7OGfyP0tD58x",
        "colab_type": "text"
      },
      "source": [
        "## Split\n",
        "\n",
        "Parte las listas en train y test siendo test del 20%"
      ]
    },
    {
      "cell_type": "code",
      "metadata": {
        "id": "2zlMXr7BULvA",
        "colab_type": "code",
        "colab": {}
      },
      "source": [
        "from sklearn.model_selection import train_test_split\n",
        "def split(mat,mat_res):\n",
        "  X_train, X_test, y_train, y_test = train_test_split(mat, mat_res, test_size=0.20)\n",
        "  return(X_train, X_test, y_train, y_test)\n",
        "  print(\"End\")"
      ],
      "execution_count": null,
      "outputs": []
    },
    {
      "cell_type": "markdown",
      "metadata": {
        "id": "GeL9bnFxzwMl",
        "colab_type": "text"
      },
      "source": [
        "## Persistencia\n",
        "\n",
        "http://exponentis.es/persistencia-de-modelos-en-python-como-guardar-tu-modelo-entrenado-de-machine-learning"
      ]
    },
    {
      "cell_type": "code",
      "metadata": {
        "id": "tUwXlduiz5Mb",
        "colab_type": "code",
        "colab": {}
      },
      "source": [
        "import joblib \n",
        "def saveModel(clf_d_save,name):\n",
        "  joblib.dump(clf_d_save, name+'.pkl') # Guardo el modelo.\n",
        "\n",
        "def openModel(name):\n",
        "  clf_d_save = joblib.load(name+'.pkl') # Carga del modelo.\n",
        "  return clf_d_save"
      ],
      "execution_count": null,
      "outputs": []
    },
    {
      "cell_type": "markdown",
      "metadata": {
        "id": "C7sYHc-fMkcw",
        "colab_type": "text"
      },
      "source": [
        "## **Modelos**"
      ]
    },
    {
      "cell_type": "markdown",
      "metadata": {
        "id": "eatkJhJsteQK",
        "colab_type": "text"
      },
      "source": [
        " ### Random Forest"
      ]
    },
    {
      "cell_type": "code",
      "metadata": {
        "id": "S_u9CYjyMm80",
        "colab_type": "code",
        "colab": {}
      },
      "source": [
        "from sklearn.ensemble import RandomForestClassifier\n",
        "from sklearn.ensemble import RandomForestRegressor\n",
        "\n",
        "def train_RF():\n",
        "  print(\"Prosesando...\")\n",
        "  #,criterion='entropy'\n",
        "  #(n_estimators=50000, random_state=0,n_jobs=-1,criterion='entropy')\n",
        "  #Digit\n",
        "  clf_l = RandomForestClassifier(n_estimators=1000, random_state=0,n_jobs=-1)\n",
        "  clf_l.fit(X_train_l, y_train_l)\n",
        "\n",
        "  #Number\n",
        "  clf_d = RandomForestClassifier(n_estimators=50000, random_state=0,n_jobs=-1,criterion='entropy')\n",
        "  clf_d.fit(X_train_d, y_train_d)\n",
        "\n",
        "  print(\"Fin\")\n",
        "  return (clf_l,clf_d)"
      ],
      "execution_count": null,
      "outputs": []
    },
    {
      "cell_type": "markdown",
      "metadata": {
        "id": "k9LQg5vMtVak",
        "colab_type": "text"
      },
      "source": [
        "### Simple vector machine"
      ]
    },
    {
      "cell_type": "code",
      "metadata": {
        "id": "Xzf-gqRIeN2O",
        "colab_type": "code",
        "colab": {}
      },
      "source": [
        "#https://scikit-learn.org/stable/modules/svm.html#classification\n",
        "#multi_class='crammer_singer'\n",
        "#clf = svm.SVC()"
      ],
      "execution_count": null,
      "outputs": []
    },
    {
      "cell_type": "code",
      "metadata": {
        "id": "mIRXOjOSazwm",
        "colab_type": "code",
        "colab": {}
      },
      "source": [
        "from sklearn import svm\n",
        "def train_LinSVM():\n",
        "  print(\"Prosesando...\")\n",
        "\n",
        "  #Digit\n",
        "  clf_l = svm.LinearSVC(max_iter=5000,multi_class='ovr')\n",
        "  clf_l.fit(X_train_l, y_train_l)\n",
        "\n",
        "  #Number\n",
        "  clf_d = svm.LinearSVC(max_iter=5000,multi_class='ovr')\n",
        "  clf_d.fit(X_train_d, y_train_d)\n",
        "\n",
        "  print(\"Fin\")\n",
        "  return (clf_l,clf_d)\n",
        "\n",
        "def train_SVM():\n",
        "  print(\"Prosesando...\")\n",
        "  #Digit\n",
        "  clf_l = svm.SVC(max_iter=-1, kernel='poly',decision_function_shape='ovr',cache_size=800,degree=1  ,gamma='auto')\n",
        "  clf_l.fit(X_train_l, y_train_l)\n",
        "\n",
        "  #Number\n",
        "  clf_d = svm.SVC(max_iter=-1, kernel='poly',decision_function_shape='ovr',cache_size=800,degree=1  ,gamma='auto')\n",
        "  clf_d.fit(X_train_d, y_train_d)\n",
        "\n",
        "  print(\"Fin\")\n",
        "  return (clf_l,clf_d)\n"
      ],
      "execution_count": null,
      "outputs": []
    },
    {
      "cell_type": "markdown",
      "metadata": {
        "id": "HZqWI3I08X29",
        "colab_type": "text"
      },
      "source": [
        "### Decision tree"
      ]
    },
    {
      "cell_type": "code",
      "metadata": {
        "id": "ukgl0pwQ8XLY",
        "colab_type": "code",
        "colab": {}
      },
      "source": [
        "from sklearn import tree\n",
        "\n",
        "def train_tree():\n",
        "  print(\"Prosesando...\")\n",
        "\n",
        "  #Digit\n",
        "  clf_l = tree.DecisionTreeClassifier()\n",
        "  clf_l.fit(X_train_l, y_train_l)\n",
        "\n",
        "  #Number\n",
        "  clf_d = tree.DecisionTreeClassifier()\n",
        "  clf_d.fit(X_train_d, y_train_d)\n",
        "\n",
        "  print(\"Fin\")\n",
        "  return (clf_l,clf_d)"
      ],
      "execution_count": null,
      "outputs": []
    },
    {
      "cell_type": "markdown",
      "metadata": {
        "id": "z-Z4hQuI-YuB",
        "colab_type": "text"
      },
      "source": [
        "### Stochastic Gradient Descent\n",
        "\n",
        "https://scikit-learn.org/stable/modules/sgd.html#classification\n"
      ]
    },
    {
      "cell_type": "code",
      "metadata": {
        "id": "rYTRsyNo9SVB",
        "colab_type": "code",
        "colab": {}
      },
      "source": [
        "from sklearn.linear_model import SGDClassifier\n",
        "def train_SGD():\n",
        "  print(\"Prosesando...\")\n",
        "  #Digit\n",
        "  clf_l =SGDClassifier(loss=\"hinge\", penalty=\"l2\", max_iter=500)\n",
        "  clf_l.fit(X_train_l, y_train_l)\n",
        "\n",
        "  #Number\n",
        "  clf_d = SGDClassifier(loss=\"hinge\", penalty=\"l2\", max_iter=500)\n",
        "  clf_d.fit(X_train_d, y_train_d)\n",
        "\n",
        "  print(\"Fin\")\n",
        "  return (clf_l,clf_d)"
      ],
      "execution_count": null,
      "outputs": []
    },
    {
      "cell_type": "markdown",
      "metadata": {
        "id": "FlCwtyYL-ysB",
        "colab_type": "text"
      },
      "source": [
        "### Neighbors"
      ]
    },
    {
      "cell_type": "code",
      "metadata": {
        "id": "BGUKT4Nf-yYP",
        "colab_type": "code",
        "colab": {}
      },
      "source": [
        "from sklearn.neighbors import NearestCentroid\n",
        "from sklearn.neighbors import KNeighborsClassifier\n",
        "\n",
        "def train_nearest_centroid():\n",
        "  print(\"Prosesando...\")\n",
        "\n",
        "  #Digit\n",
        "  clf_l =NearestCentroid()\n",
        "  clf_l.fit(X_train_l, y_train_l)\n",
        "\n",
        "  #Number\n",
        "  clf_d = NearestCentroid()\n",
        "  clf_d.fit(X_train_d, y_train_d)\n",
        "\n",
        "  print(\"Fin\")\n",
        "  return (clf_l,clf_d)\n",
        "\n",
        "\n",
        "def train_k_neighbors():\n",
        "  print(\"Prosesando...\")\n",
        "  #Digit\n",
        "  clf_l =KNeighborsClassifier(n_neighbors=10)\n",
        "  clf_l.fit(X_train_l, y_train_l)\n",
        "\n",
        "  #Number\n",
        "  clf_d = KNeighborsClassifier(n_neighbors=10)\n",
        "  clf_d.fit(X_train_d, y_train_d)\n",
        "\n",
        "  print(\"Fin\")\n",
        "  return (clf_l,clf_d)"
      ],
      "execution_count": null,
      "outputs": []
    },
    {
      "cell_type": "markdown",
      "metadata": {
        "id": "DJ7mSr36tATZ",
        "colab_type": "text"
      },
      "source": [
        "\n",
        "\n",
        "---\n",
        "\n"
      ]
    },
    {
      "cell_type": "markdown",
      "metadata": {
        "id": "ga25yVzRs8xw",
        "colab_type": "text"
      },
      "source": [
        "# **Testeo**"
      ]
    },
    {
      "cell_type": "markdown",
      "metadata": {
        "id": "oPMVVO98ECDy",
        "colab_type": "text"
      },
      "source": [
        "**Test dataset**"
      ]
    },
    {
      "cell_type": "code",
      "metadata": {
        "id": "fvz7RVQYNze_",
        "colab_type": "code",
        "colab": {}
      },
      "source": [
        "from sklearn import metrics\n",
        "\n",
        "\n",
        "def analyzeT(y_pred_l,y_pred_d):\n",
        "  #Letra\n",
        "  print(\"---------- Letra ----------\")\n",
        "  analyze_aux(y_pred_l,y_test_l)\n",
        "\n",
        "  #Digito\n",
        "  print(\"---------- Digito ----------\")\n",
        "  analyze_aux(y_pred_d,y_test_d)\n",
        "\n",
        "\n",
        "\n",
        "def analyze_aux(y_pred,y_test):\n",
        "  print(metrics.classification_report(y_test, y_pred))\n",
        "\n"
      ],
      "execution_count": null,
      "outputs": []
    },
    {
      "cell_type": "markdown",
      "metadata": {
        "id": "T4322Wr9BU8p",
        "colab_type": "text"
      },
      "source": [
        "**Test img**"
      ]
    },
    {
      "cell_type": "code",
      "metadata": {
        "id": "Js4q0rvgqwnD",
        "colab_type": "code",
        "colab": {}
      },
      "source": [
        "def test_img(name):\n",
        "  foto2 = Image.open(\"/content/drive/My Drive/IA_project/ej/\"+name+\".jpg\")\n",
        "\n",
        "  foto2=standardize_img(foto2) \n",
        "\n",
        "  mat_leter=[]\n",
        "  mat_digit=[]\n",
        "  # Recorte\n",
        "\n",
        "  foto_leter = foto2.crop(area_leter)\n",
        "  foto_digit = foto2.crop(area_digit)\n",
        "\n",
        "\n",
        "  # Leter\n",
        "  (l1,l2,l3)=process_char(foto_leter)\n",
        "\n",
        "  mat_leter.append(list(l1.getdata()))\n",
        "  mat_leter.append(list(l2.getdata()))\n",
        "  mat_leter.append(list(l3.getdata()))\n",
        "\n",
        "  ## Digito\n",
        "  (d1,d2,d3)=process_char(foto_digit)\n",
        "\n",
        "  mat_digit.append(list(d1.getdata()))\n",
        "  mat_digit.append(list(d2.getdata()))\n",
        "  mat_digit.append(list(d3.getdata()))\n",
        "\n",
        "\n",
        "  res_l= clf_l.predict(mat_leter)\n",
        "  res_d= clf_d.predict(mat_digit)\n",
        "  for element in res_l:\n",
        "    print(\" caracter: \" +chr(element))\n",
        "\n",
        "  for element in res_d:\n",
        "    print(\" numero: \" +str(element))\n",
        "\n",
        "\n",
        "\n"
      ],
      "execution_count": null,
      "outputs": []
    },
    {
      "cell_type": "markdown",
      "metadata": {
        "id": "fyE7SDkP_kmD",
        "colab_type": "text"
      },
      "source": [
        "# **Ejecutar**"
      ]
    },
    {
      "cell_type": "code",
      "metadata": {
        "id": "pzVOEvZwCnEa",
        "colab_type": "code",
        "colab": {}
      },
      "source": [
        "#Load\n",
        "(mat_leter,mat_res_leter,mat_digit,mat_res_digit) = load_labeling(True)"
      ],
      "execution_count": null,
      "outputs": []
    },
    {
      "cell_type": "code",
      "metadata": {
        "id": "h-qJeopEDVXE",
        "colab_type": "code",
        "colab": {}
      },
      "source": [
        "#Split\n",
        "(X_train_l, X_test_l, y_train_l, y_test_l ) = split(mat_leter,mat_res_leter)\n",
        "(X_train_d, X_test_d, y_train_d, y_test_d ) = split(mat_digit,mat_res_digit)"
      ],
      "execution_count": null,
      "outputs": []
    },
    {
      "cell_type": "code",
      "metadata": {
        "id": "o2GceIMA_nk2",
        "colab_type": "code",
        "colab": {}
      },
      "source": [
        "#Train\n",
        "(clf_l,clf_d)=train_SVM()"
      ],
      "execution_count": null,
      "outputs": []
    },
    {
      "cell_type": "code",
      "metadata": {
        "id": "Rpz8i-rQ_tDp",
        "colab_type": "code",
        "colab": {}
      },
      "source": [
        "y_pred_l = clf_l.predict(X_test_l)\n",
        "y_pred_d = clf_d.predict(X_test_d)\n",
        "\n",
        "analyzeT(y_pred_l,y_pred_d)"
      ],
      "execution_count": null,
      "outputs": []
    },
    {
      "cell_type": "code",
      "metadata": {
        "id": "rBVUoPuRG41X",
        "colab_type": "code",
        "colab": {}
      },
      "source": [
        "import scikitplot as skplt\n",
        "\n",
        "skplt.metrics.plot_confusion_matrix(y_test_l, y_pred_l,figsize =(15,15),normalize=False)\n",
        "\n",
        "plt.show()"
      ],
      "execution_count": null,
      "outputs": []
    },
    {
      "cell_type": "markdown",
      "metadata": {
        "id": "0Fu6b51sYkq9",
        "colab_type": "text"
      },
      "source": [
        "### Cross validation\n"
      ]
    },
    {
      "cell_type": "code",
      "metadata": {
        "id": "ogSv5DgfMp3I",
        "colab_type": "code",
        "colab": {}
      },
      "source": [
        "from sklearn.model_selection import cross_val_predict\n",
        "import os\n",
        "\n",
        "\n",
        "clf_test6 = NearestCentroid()\n",
        "clf_test5 = KNeighborsClassifier(n_neighbors=40)#n_neighbors=10,n_jobs=-1\n",
        "clf_test4 = SGDClassifier(loss=\"hinge\", penalty=\"l2\", max_iter=1000)\n",
        "clf_test3 = svm.SVC(max_iter=500)\n",
        "clf_test2 = svm.LinearSVC(max_iter=1000,multi_class='ovr')#ovr  crammer_singer  loss=\"hinge\" penalty=\"l1\" 1000\n",
        "clf_test1 = RandomForestClassifier(n_estimators=50000, random_state=0,n_jobs=-1,criterion='entropy')\n",
        "clf_test0 = RandomForestClassifier(n_estimators=1000, random_state=0,n_jobs=-1,criterion='entropy')\n",
        "#clf_test = svm.LinearSVC(max_iter=(i*multipicador),multi_class='crammer_singer')#crammer_singer\n",
        "\n",
        "def cross_validation(clf,train,test):\n",
        "  predictions = cross_val_predict(clf, train, test,n_jobs=-1,cv= 4)\n",
        "  analyze_aux(predictions,test)\n",
        "  #skplt.metrics.plot_confusion_matrix(mat_res_leter, predictions,figsize =(15,15),normalize=False)\n",
        "  #plt.show()\n",
        "  return predictions\n",
        "\n",
        "def csv_create(name,acurray,num_iter):\n",
        "  file = open(name+\".csv\", \"w\")\n",
        "  file.write(\"max_iter ; Accuracy ;\" +'\\n')\n",
        "  for i in range(0,len(acurray)):\n",
        "    file.write(str(num_iter*(i+1))+\";\"+acurray[i]+\";\" +'\\n')       \n",
        "  file.close();\n",
        "\n",
        "\n",
        "def analyze(name,multipicador,train,test):\n",
        "  acurray=[]\n",
        "  for i in range (1,10):#10\n",
        "    print(\"-------------------------------------- \"+str(i+multipicador)+\" -------------------------------------- \")\n",
        "    clf_test = svm.SVC(max_iter=-1, kernel='rbf',decision_function_shape='ovr',cache_size=800,degree=1  ,gamma='auto', tol=0.1, C=0.1, probability=True)#crammer_singer  ovr  tol=0.0001, C=1.0   poly rbf sigmoid degree=1 \n",
        "    #clf_test =NearestCentroid()\n",
        "    y_pred=cross_validation(clf_test,train,test)\n",
        "    y_test=test\n",
        "    acurray.append(str(metrics.accuracy_score(y_test, y_pred)).replace(\".\", \",\"))\n",
        "  csv_create(name,acurray,(multipicador))\n",
        "\n",
        "\n",
        "set_test=mat_leter\n",
        "set_res=mat_res_leter\n",
        "set_name=\"none20_l\"\n",
        "for i in range (0,5): #10\n",
        "  analyze(set_name+\"_\"+str(i),10**i,set_test,set_res)\n",
        "\n",
        "set_test=mat_digit\n",
        "set_res=mat_res_digit\n",
        "set_name=\"none20_d\"\n",
        "for i in range (0,5):\n",
        "  analyze(set_name+\"_\"+str(i),10**i,set_test,set_res)\n"
      ],
      "execution_count": null,
      "outputs": []
    }
  ]
}